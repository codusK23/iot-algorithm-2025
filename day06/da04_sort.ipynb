{
 "cells": [
  {
   "cell_type": "markdown",
   "metadata": {},
   "source": [
    "### 정렬 Sort\n",
    "\n",
    "<img src=\"https://upload.wikimedia.org/wikipedia/commons/thumb/8/8e/Merge_sort_animation.gif/220px-Merge_sort_animation.gif\" width=400>\n",
    "\n",
    "- 여러 데이터를 작은 값부터 큰 순으로 또는 큰 값부터 작은 순으로 순서에 맞게 정리하는 것\n",
    "    - 오름차순(Ascending sort)\n",
    "    - 내림차순(Decending sort)\n",
    "\n",
    "\n",
    "<!-- 표만들때 :-- (왼쪽정렬) --:(오른쪽정렬) :--:(중앙정렬) -->\n",
    "|종류|평균|최선|최악|\n",
    "|:-- |:--:| --:|:--:|\n",
    "|선택정렬|$O(n^2)$|$O(n^2)$|$O(n^2)$|\n",
    "|버블|$O(n^2)$|$O(n^2)$|$O(n^2)$|\n",
    "|합병|$O(n log n)$|$O(n log n)$|$O(n log n)$|\n",
    "|퀵|$O(n log n)$|$O(n log n)$|$n(n^2)$|\n",
    "|힙|$O(n^{1.25})$|$O(n^{1.25})$|$O(n^{1.25})$|\n",
    "|기수|$O(dn)$|$O(dn)$|$O(dn)$|"
   ]
  },
  {
   "cell_type": "markdown",
   "metadata": {},
   "source": [
    "#### 선택정렬\n",
    "\n",
    "- 여러 데이터중 가장 작은 값을 뽑는 과정을 반복하여 정렬하는 방식"
   ]
  },
  {
   "cell_type": "code",
   "execution_count": 23,
   "metadata": {},
   "outputs": [],
   "source": [
    "def findMinIdx(ary):\n",
    "    minIdx = 0 # 맨 처음값을 최소라고 가정\n",
    "    for i in range(1, len(ary)):\n",
    "        if ary[minIdx] > ary[i]:\n",
    "            minIdx = i\n",
    "    \n",
    "    return minIdx"
   ]
  },
  {
   "cell_type": "code",
   "execution_count": 24,
   "metadata": {},
   "outputs": [
    {
     "name": "stdout",
     "output_type": "stream",
     "text": [
      "최소값 인덱스 : 2\n",
      "최소값 : 22\n"
     ]
    }
   ],
   "source": [
    "testAry = [55, 88, 22, 33, 77]\n",
    "minPos = findMinIdx(testAry)\n",
    "\n",
    "print(f'최소값 인덱스 : {minPos}')\n",
    "print(f'최소값 : {testAry[minPos]}')"
   ]
  },
  {
   "cell_type": "code",
   "execution_count": 25,
   "metadata": {},
   "outputs": [
    {
     "name": "stdout",
     "output_type": "stream",
     "text": [
      "정렬 전 -> :[188, 162, 168, 120, 50, 150, 177, 105]\n",
      "정렬 후 -> [50, 105, 120, 150, 162, 168, 177, 188]\n"
     ]
    }
   ],
   "source": [
    "## 변수 선언\n",
    "# [('아빠', 188), ('할머니', 162), ..., ('동생', 105)]\n",
    "before = [188, 162, 168, 120, 50, 150, 177, 105]\n",
    "after = []\n",
    "\n",
    "## 메인코드\n",
    "print(f'정렬 전 -> :{before}')\n",
    "\n",
    "for _ in range(len(before)): #8번\n",
    "    minPos = findMinIdx(before)\n",
    "    after.append(before[minPos])\n",
    "    del(before[minPos])\n",
    "\n",
    "print(f'정렬 후 -> {after}')\n",
    "    "
   ]
  },
  {
   "cell_type": "markdown",
   "metadata": {},
   "source": [
    "#### 데이터 교환에서 가장 중요한 swap\n",
    "- 변수가 두개 있을 때 하나의 값을 다른 곳으로 할당하려면 임시변수가 필요\n",
    "    ```python\n",
    "    def swap(x, y):\n",
    "        temp = x\n",
    "        x = y\n",
    "        y = temp\n",
    "    ```"
   ]
  },
  {
   "cell_type": "markdown",
   "metadata": {},
   "source": [
    "#### 변수 하나로 선택정렬"
   ]
  },
  {
   "cell_type": "code",
   "execution_count": 4,
   "metadata": {},
   "outputs": [
    {
     "name": "stdout",
     "output_type": "stream",
     "text": [
      "정렬 전 -> [188, 162, 168, 120, 50, 150, 177, 105]\n",
      "정렬 중 -> [50, 162, 168, 120, 188, 150, 177, 105]\n",
      "정렬 중 -> [50, 105, 168, 120, 188, 150, 177, 162]\n",
      "정렬 중 -> [50, 105, 120, 168, 188, 150, 177, 162]\n",
      "정렬 중 -> [50, 105, 120, 150, 188, 168, 177, 162]\n",
      "정렬 중 -> [50, 105, 120, 150, 162, 168, 177, 188]\n",
      "정렬 중 -> [50, 105, 120, 150, 162, 168, 177, 188]\n",
      "정렬 중 -> [50, 105, 120, 150, 162, 168, 177, 188]\n",
      "중복처리 횟수 => 16\n",
      "정렬 후 -> [50, 105, 120, 150, 162, 168, 177, 188]\n"
     ]
    }
   ],
   "source": [
    "def sortSelection(ary):\n",
    "    count = 0\n",
    "    n = len(ary)\n",
    "    for i in range(0, n-1):\n",
    "        minIdx = i\n",
    "        for j in range(i+1, n):\n",
    "            if ary[minIdx] > ary[j]:\n",
    "                minIdx = j\n",
    "                count += 1\n",
    "    \n",
    "            \n",
    "        tmp = ary[i]\n",
    "        ary[i] = ary[minIdx]\n",
    "        ary[minIdx] = tmp\n",
    "\n",
    "        print(f'정렬 중 -> {dataAry}')\n",
    "        count += 1\n",
    "\n",
    "    print(f'중복처리 횟수 => {count}')\n",
    "    return ary\n",
    "\n",
    "dataAry = [188, 162, 168, 120, 50, 150, 177, 105]\n",
    "\n",
    "print(f'정렬 전 -> {dataAry}')\n",
    "dataAry = sortSelection(dataAry)\n",
    "print(f'정렬 후 -> {dataAry}')"
   ]
  },
  {
   "cell_type": "markdown",
   "metadata": {},
   "source": [
    "#### 삽입정렬\n",
    "- 기존 데이터 중에 자신의 위치를 찾아 데이터를 삽입하는 정렬방식\n",
    "- 삽입될 위치를 찾는 함수"
   ]
  },
  {
   "cell_type": "code",
   "execution_count": 27,
   "metadata": {},
   "outputs": [],
   "source": [
    "def findInsertIdx(ary, data):\n",
    "    findIdx = -1    # 배열의 인덱스 앞(인덱스 0보다 앞을 의미)\n",
    "    for i in range(0, len(ary)):\n",
    "        if ary[i] > data:\n",
    "            findIdx = i\n",
    "            break\n",
    "\n",
    "    if findIdx == -1: # 큰 값을 못 찾음. 제일 마지막 위치\n",
    "        return len(ary)\n",
    "    else:\n",
    "        return findIdx"
   ]
  },
  {
   "cell_type": "code",
   "execution_count": 28,
   "metadata": {},
   "outputs": [
    {
     "name": "stdout",
     "output_type": "stream",
     "text": [
      "삽입위치 인덱스 -> 1\n"
     ]
    }
   ],
   "source": [
    "testAry = [33, 77, 88]\n",
    "print(f'삽입위치 인덱스 -> {findInsertIdx(testAry, 55)}')"
   ]
  },
  {
   "cell_type": "code",
   "execution_count": 29,
   "metadata": {},
   "outputs": [
    {
     "name": "stdout",
     "output_type": "stream",
     "text": [
      "삽입위치 인덱스 -> 2\n"
     ]
    }
   ],
   "source": [
    "testAry = [33, 55, 77, 88]\n",
    "print(f'삽입위치 인덱스 -> {findInsertIdx(testAry, 55)}')"
   ]
  },
  {
   "cell_type": "code",
   "execution_count": 30,
   "metadata": {},
   "outputs": [
    {
     "name": "stdout",
     "output_type": "stream",
     "text": [
      "삽입위치 인덱스 -> 4\n"
     ]
    }
   ],
   "source": [
    "testAry = [33, 55, 77, 88]\n",
    "print(f'삽입위치 인덱스 -> {findInsertIdx(testAry, 100)}')"
   ]
  },
  {
   "cell_type": "markdown",
   "metadata": {},
   "source": [
    "- 삽입정렬 구현"
   ]
  },
  {
   "cell_type": "code",
   "execution_count": 31,
   "metadata": {},
   "outputs": [
    {
     "name": "stdout",
     "output_type": "stream",
     "text": [
      "정렬 전 -> [188, 162, 168, 120, 50, 150, 177, 105]\n",
      "정렬 중 -> [188]\n",
      "정렬 중 -> [162, 188]\n",
      "정렬 중 -> [162, 168, 188]\n",
      "정렬 중 -> [120, 162, 168, 188]\n",
      "정렬 중 -> [50, 120, 162, 168, 188]\n",
      "정렬 중 -> [50, 120, 150, 162, 168, 188]\n",
      "정렬 중 -> [50, 120, 150, 162, 168, 177, 188]\n",
      "정렬 중 -> [50, 105, 120, 150, 162, 168, 177, 188]\n",
      "정렬 후 -> [50, 105, 120, 150, 162, 168, 177, 188]\n"
     ]
    }
   ],
   "source": [
    "# 변수\n",
    "before = [188, 162, 168, 120, 50, 150, 177, 105]\n",
    "after = []\n",
    "\n",
    "# 메인코드\n",
    "print(f'정렬 전 -> {before}')\n",
    "for i in range(len(before)):\n",
    "    data = before[i]\n",
    "    insPos = findInsertIdx(after, data)\n",
    "    after.insert(insPos, data)\n",
    "    print(f'정렬 중 -> {after}')\n",
    "\n",
    "print(f'정렬 후 -> {after}')"
   ]
  },
  {
   "cell_type": "markdown",
   "metadata": {},
   "source": [
    "- 변수 하나로 삽입정렬"
   ]
  },
  {
   "cell_type": "code",
   "execution_count": 5,
   "metadata": {},
   "outputs": [
    {
     "name": "stdout",
     "output_type": "stream",
     "text": [
      "정렬 전 -> [188, 162, 168, 120, 50, 150, 177, 105]\n",
      "정렬 중 -> [162, 188, 168, 120, 50, 150, 177, 105]\n",
      "정렬 중 -> [162, 168, 188, 120, 50, 150, 177, 105]\n",
      "정렬 중 -> [120, 162, 168, 188, 50, 150, 177, 105]\n",
      "정렬 중 -> [50, 120, 162, 168, 188, 150, 177, 105]\n",
      "정렬 중 -> [50, 120, 150, 162, 168, 188, 177, 105]\n",
      "정렬 중 -> [50, 120, 150, 162, 168, 177, 188, 105]\n",
      "정렬 중 -> [50, 105, 120, 150, 162, 168, 177, 188]\n",
      "총 처리 횟수 26\n",
      "정렬 후 -> [50, 105, 120, 150, 162, 168, 177, 188]\n"
     ]
    }
   ],
   "source": [
    "def sortInsertion(ary):\n",
    "    count = 0\n",
    "    n = len(ary)\n",
    "    for end in range(1, n): # end -> 1.... n-1\n",
    "        for cur in range(end, 0, -1): # cur -> 거꾸로\n",
    "            if ary[cur - 1] > ary[cur]:\n",
    "                # tmp = ary[cur]\n",
    "                # ary[cur] = ary[cur - 1]\n",
    "                # ary[cur - 1] = tmp\n",
    "                # tmp변수를 안 만들고 바로 변경할 수 있는 로직 (파이썬에는 존재, C는 없음)\n",
    "                ary[cur - 1], ary[cur] = ary[cur], ary[cur - 1]\n",
    "                count += 1\n",
    "\n",
    "        print(f'정렬 중 -> {ary}')\n",
    "        count += 1\n",
    "    \n",
    "    print(f'총 처리 횟수 {count}')\n",
    "    return ary\n",
    "\n",
    "dataAry = [188, 162, 168, 120, 50, 150, 177, 105]\n",
    "\n",
    "# 메인코드\n",
    "print(f'정렬 전 -> {dataAry}')\n",
    "dataAry = sortInsertion(dataAry)\n",
    "print(f'정렬 후 -> {dataAry}')"
   ]
  },
  {
   "cell_type": "markdown",
   "metadata": {},
   "source": [
    "#### 응용예제"
   ]
  },
  {
   "cell_type": "markdown",
   "metadata": {},
   "source": [
    "- 중앙값 계산"
   ]
  },
  {
   "cell_type": "code",
   "execution_count": 33,
   "metadata": {},
   "outputs": [
    {
     "name": "stdout",
     "output_type": "stream",
     "text": [
      "용돈 정렬 전 ->  [7, 5, 11, 6, 9, 80000, 10, 6, 15, 12]\n",
      "용돈 정렬 후 ->  [5, 6, 6, 7, 9, 10, 11, 12, 15, 80000]\n",
      "용돈 중앙값 ->  10\n"
     ]
    }
   ],
   "source": [
    "# sortSelection 함수 사용\n",
    "\n",
    "moneyAry = [7, 5, 11, 6, 9, 80000, 10, 6, 15, 12]\n",
    "\n",
    "print('용돈 정렬 전 -> ', moneyAry)\n",
    "moneyAry = sortSelection(moneyAry)\n",
    "print('용돈 정렬 후 -> ', moneyAry)\n",
    "print('용돈 중앙값 -> ', moneyAry[len(moneyAry)//2])"
   ]
  },
  {
   "cell_type": "markdown",
   "metadata": {},
   "source": [
    "- 파일명 내림차순 정렬"
   ]
  },
  {
   "cell_type": "code",
   "execution_count": 34,
   "metadata": {},
   "outputs": [],
   "source": [
    "import os"
   ]
  },
  {
   "cell_type": "code",
   "execution_count": 35,
   "metadata": {},
   "outputs": [],
   "source": [
    "def makeFileList(folderName):\n",
    "    fnameAry = []\n",
    "    for dirName, subDirList, fnames in os.walk(folderName):\n",
    "        for fname in fnames:\n",
    "            fnameAry.append(fname)\n",
    "    return fnameAry\n",
    "\n",
    "def insertionSort(ary):\n",
    "    n = len(ary)\n",
    "    for end in range(1, n): \n",
    "        for cur in range(end, 0, -1):\n",
    "            if ary[cur - 1] < ary[cur]:\n",
    "                ary[cur - 1], ary[cur] = ary[cur], ary[cur - 1]\n",
    "    \n",
    "    return ary"
   ]
  },
  {
   "cell_type": "code",
   "execution_count": 36,
   "metadata": {},
   "outputs": [
    {
     "name": "stdout",
     "output_type": "stream",
     "text": [
      "파일명역순 정렬 ->  ['zh-phonetic.xml', 'zh-dayi.xml', 'zh-changjei.xml', 'wab32res.dll.mui', 'wab32res.dll.mui', 'wab32res.dll', 'wab32.dll', 'vstoee90.tlb', 'vstoee100.tlb', 'vstoee.dll', 'vcruntime140_1.dll', 'vcruntime140.dll', 'vccorlib140.dll', 'ucrtbase.dll', 'tpcps.dll', 'tiptsf.dll', 'tipskins.dll', 'tipresx.dll.mui', 'tipresx.dll.mui', 'tipresx.dll.mui', 'tipresx.dll.mui', 'tipresx.dll.mui', 'tipresx.dll.mui', 'tipresx.dll.mui', 'tipresx.dll.mui', 'tipresx.dll.mui', 'tipresx.dll.mui', 'tipresx.dll.mui', 'tipresx.dll.mui', 'tipresx.dll.mui', 'tipresx.dll.mui', 'tipresx.dll.mui', 'tipresx.dll.mui', 'tipresx.dll.mui', 'tipresx.dll.mui', 'tipresx.dll.mui', 'tipresx.dll.mui', 'tipresx.dll.mui', 'tipresx.dll.mui', 'tipresx.dll.mui', 'tipresx.dll.mui', 'tipresx.dll.mui', 'tipresx.dll.mui', 'tipresx.dll.mui', 'tipresx.dll.mui', 'tipresx.dll.mui', 'tipresx.dll.mui', 'tipresx.dll.mui', 'tipresx.dll.mui', 'tipresx.dll.mui', 'tipresx.dll.mui', 'tipresx.dll.mui', 'tipresx.dll.mui', 'tipresx.dll.mui', 'tipresx.dll.mui', 'tipresx.dll.mui', 'tipresx.dll.mui', 'tipresx.dll.mui', 'tipresx.dll.mui', 'tipresx.dll.mui', 'tipresx.dll.mui', 'tipresx.dll.mui', 'tipresx.dll.mui', 'tipresx.dll.mui', 'tipresx.dll.mui', 'tipresx.dll.mui', 'tipresx.dll.mui', 'tipresx.dll.mui', 'tipresx.dll.mui', 'tipresx.dll.mui', 'tipresx.dll.mui', 'tipresx.dll.mui', 'tipresx.dll.mui', 'tipresx.dll.mui', 'tipresx.dll.mui', 'tipresx.dll.mui', 'tipresx.dll.mui', 'tipresx.dll.mui', 'tipresx.dll.mui', 'tipresx.dll.mui', 'tipresx.dll.mui', 'tipresx.dll.mui', 'tipresx.dll.mui', 'tipresx.dll.mui', 'tipresx.dll.mui', 'tipresx.dll.mui', 'tipresx.dll.mui', 'tipresx.dll.mui', 'tipresx.dll.mui', 'tipresx.dll.mui', 'tipresx.dll.mui', 'tipresx.dll.mui', 'tipresx.dll.mui', 'tipresx.dll.mui', 'tipresx.dll.mui', 'tipresx.dll.mui', 'tipresx.dll.mui', 'tipresx.dll.mui', 'tipresx.dll.mui', 'tipresx.dll.mui', 'tipresx.dll.mui', 'tipresx.dll.mui', 'tipresx.dll.mui', 'tipresx.dll.mui', 'tipresx.dll.mui', 'tipresx.dll.mui', 'tipresx.dll.mui', 'tipresx.dll', 'tabskb.dll.mui', 'tabskb.dll.mui', 'tabskb.dll', 'symbols.xml', 'symbase.xml', 'sqlxmlx.rll.mui', 'sqlxmlx.rll.mui', 'sqlxmlx.rll', 'sqlxmlx.dll', 'sqloledb.rll.mui', 'sqloledb.rll.mui', 'sqloledb.rll', 'sqloledb.dll', 'rtscom.dll.mui', 'rtscom.dll.mui', 'rtscom.dll', 'policy.dll', 'pkeyconfig.companion.dll', 'pkeyconfig-office.xrm-ms', 'pidgenx.dll', 'oskpredbase.xml', 'oskpred.xml', 'osknumpadbase.xml', 'osknumpad.xml', 'osknavbase.xml', 'osknav.xml', 'oskmenubase.xml', 'oskmenu.xml', 'oskclearuibase.xml', 'oskclearui.xml', 'oledbvbs.inc', 'oledbjvs.inc', 'oledb32r.dll.mui', 'oledb32r.dll.mui', 'oledb32r.dll', 'oledb32.dll', 'offreg.dll', 'officesvcmgrschedule.xml', 'officesvcmgr.exe', 'officeinventory.dll', 'msxactps.dll', 'msvcr120.dll', 'msvcp140.dll', 'msvcp120.dll', 'msix.dll', 'msinfo32.exe.mui', 'msinfo32.exe.mui', 'msinfo32.exe', 'mshwstaging.dll', 'mshwrwisp.dll', 'mshwgst.dll', 'msdfmap.dll', 'msdatl3.dll', 'msdasqlr.dll.mui', 'msdasqlr.dll.mui', 'msdasqlr.dll', 'msdasql.dll', 'msdaremr.dll.mui', 'msdaremr.dll.mui', 'msdaremr.dll', 'msdarem.dll', 'msdaps.dll', 'msdaprst.dll', 'msdaprsr.dll.mui', 'msdaprsr.dll.mui', 'msdaprsr.dll', 'msdaosp.dll', 'msadrh15.dll', 'msadox28.tlb', 'msadox.dll', 'msador28.tlb', 'msador15.dll', 'msadomd28.tlb', 'msadomd.dll', 'msado60.tlb', 'msado28.tlb', 'msado27.tlb', 'msado26.tlb', 'msado25.tlb', 'msado21.tlb', 'msado20.tlb', 'msado15.dll', 'msader15.dll.mui', 'msader15.dll.mui', 'msader15.dll', 'msaddsr.dll.mui', 'msaddsr.dll.mui', 'msaddsr.dll', 'msadds.dll', 'msadcor.dll.mui', 'msadcor.dll.mui', 'msadcor.dll', 'msadco.dll', 'msadcer.dll.mui', 'msadcer.dll.mui', 'msadcer.dll', 'msadce.dll', 'mraut.dll', 'micaut.dll.mui', 'micaut.dll', 'manageability.dll', 'main.xml', 'kor-kor.xml', 'ko-kr.xml', 'keypadbase.xml', 'keypad.xml', 'ja-jp.xml', 'ja-jp-sym.xml', 'inventory.dll', 'insertbase.xml', 'insert.xml', 'i640.hash', 'i640.cab.cat', 'ea.xml', 'ea-sym.xml', 'cpprestsdk.dll', 'concrt140.dll', 'base_rtl.xml', 'base_kor.xml', 'base_jpn.xml', 'base_heb.xml', 'base_ca.xml', 'base_altgr.xml', 'baseAltGr_rtl.xml', 'base.xml', 'auxpad.xml', 'auxbase.xml', 'appvcleaner.exe', 'api-ms-win-crt-utility-l1-1-0.dll', 'api-ms-win-crt-time-l1-1-0.dll', 'api-ms-win-crt-string-l1-1-0.dll', 'api-ms-win-crt-stdio-l1-1-0.dll', 'api-ms-win-crt-runtime-l1-1-0.dll', 'api-ms-win-crt-process-l1-1-0.dll', 'api-ms-win-crt-private-l1-1-0.dll', 'api-ms-win-crt-multibyte-l1-1-0.dll', 'api-ms-win-crt-math-l1-1-0.dll', 'api-ms-win-crt-locale-l1-1-0.dll', 'api-ms-win-crt-heap-l1-1-0.dll', 'api-ms-win-crt-filesystem-l1-1-0.dll', 'api-ms-win-crt-environment-l1-1-0.dll', 'api-ms-win-crt-convert-l1-1-0.dll', 'api-ms-win-crt-conio-l1-1-0.dll', 'api-ms-win-core-xstate-l2-1-0.dll', 'api-ms-win-core-timezone-l1-1-0.dll', 'api-ms-win-core-synch-l1-2-0.dll', 'api-ms-win-core-processthreads-l1-1-1.dll', 'api-ms-win-core-localization-l1-2-0.dll', 'api-ms-win-core-file-l2-1-0.dll', 'api-ms-win-core-file-l1-2-0.dll', 'adovbs.inc', 'adojavas.inc', 'adcvbs.inc', 'adcjavas.inc', 'VSTOMessageProvider.dll', 'VSTOLoaderUI.dll', 'VSTOLoaderUI.dll', 'VSTOLoader.dll', 'VSTOInstallerUI.dll', 'VSTOInstallerUI.dll', 'VSTOInstaller.exe', 'VGX.dll', 'TipTsf.dll.mui', 'TipTsf.dll.mui', 'TipRes.dll.mui', 'TipRes.dll.mui', 'TipRes.dll', 'TabTip.exe.mui', 'TabTip.exe.mui', 'TabTip.exe', 'SubsystemController.man', 'StreamServer.dll', 'SharedPerformance.man', 'ServiceWatcherSchedule.xml', 'RepoMan.dll', 'OfficeClickToRun.exe', 'OfficeC2RCom.dll', 'OfficeC2RClient.exe', 'Microsoft.Ink.dll', 'Microsoft.Ink.Intelligence.TextInput.Skill.dll', 'Microsoft.Ink.Intelligence.TextInput.Implementation.dll', 'MavInject32.exe', 'MSADDNDR.OLB', 'LICLUA.EXE', 'IntegratedOffice.exe', 'InspectorOfficeGadget.exe', 'InkObj.dll.mui', 'InkObj.dll.mui', 'InkObj.dll', 'InkDiv.dll', 'FrequentOfficeUpdateSchedule.xml', 'ClientEventLogMessages.man', 'ClientCapabilities.json', 'C2RUI.dll', 'C2RINTL.zh-tw.dll', 'C2RINTL.zh-cn.dll', 'C2RINTL.vi-vn.dll', 'C2RINTL.uk-ua.dll', 'C2RINTL.tr-tr.dll', 'C2RINTL.th-th.dll', 'C2RINTL.sv-se.dll', 'C2RINTL.sr-latn-rs.dll', 'C2RINTL.sl-si.dll', 'C2RINTL.sk-sk.dll', 'C2RINTL.ru-ru.dll', 'C2RINTL.ro-ro.dll', 'C2RINTL.pt-pt.dll', 'C2RINTL.pt-br.dll', 'C2RINTL.pl-pl.dll', 'C2RINTL.nl-nl.dll', 'C2RINTL.nb-no.dll', 'C2RINTL.ms-my.dll', 'C2RINTL.lv-lv.dll', 'C2RINTL.lt-lt.dll', 'C2RINTL.ko-kr.dll', 'C2RINTL.kk-kz.dll', 'C2RINTL.ja-jp.dll', 'C2RINTL.it-it.dll', 'C2RINTL.id-id.dll', 'C2RINTL.hu-hu.dll', 'C2RINTL.hr-hr.dll', 'C2RINTL.hi-in.dll', 'C2RINTL.he-il.dll', 'C2RINTL.fr-fr.dll', 'C2RINTL.fr-ca.dll', 'C2RINTL.fi-fi.dll', 'C2RINTL.et-ee.dll', 'C2RINTL.es-mx.dll', 'C2RINTL.es-es.dll', 'C2RINTL.en-us.dll', 'C2RINTL.en-gb.dll', 'C2RINTL.el-gr.dll', 'C2RINTL.de-de.dll', 'C2RINTL.da-dk.dll', 'C2RINTL.cs-cz.dll', 'C2RINTL.bg-bg.dll', 'C2RINTL.ar-sa.dll', 'C2RHeartbeatConfig.xml', 'C2R64.dll', 'C2R32.dll', 'AppvIsvSubsystems64_arm64x.dll', 'AppvIsvSubsystems64.dll', 'AppvIsvSubsystems32_msix.dll', 'AppvIsvSubsystems32.dll', 'AppVShNotify.exe', 'AppVScripting.dll', 'AppVPolicy.dll', 'AppVOrchestration.dll', 'AppVManifest.dll', 'AppVIsvVirtualization.dll', 'AppVIsvSubsystems64_msix.dll', 'AppVIsvSubsystemController.dll', 'AppVIsvStreamingManager.dll', 'AppVIsvApi.dll', 'AppVIntegration.dll', 'AppVFileSystemMetadata.dll', 'AppVClientIsv.man', 'AppVClient.man', 'AppVCatalog.dll', 'ApiClient.dll', '.LNK']\n"
     ]
    }
   ],
   "source": [
    "fileAry = []\n",
    "\n",
    "fileAry = makeFileList('C:/Program Files/Common files')\n",
    "fileAry = insertionSort(fileAry)\n",
    "print('파일명역순 정렬 -> ', fileAry)"
   ]
  },
  {
   "cell_type": "markdown",
   "metadata": {},
   "source": [
    "- 성적별로 조 편성하기"
   ]
  },
  {
   "cell_type": "code",
   "execution_count": 41,
   "metadata": {},
   "outputs": [
    {
     "name": "stdout",
     "output_type": "stream",
     "text": [
      "정렬 전 ->  [['선미', 88], ['초아', 99], ['화사', 71], ['영탁', 78], ['영웅', 67], ['민호', 92]]\n",
      "정렬 후 ->  [['영웅', 67], ['화사', 71], ['영탁', 78], ['선미', 88], ['민호', 92], ['초아', 99]]\n",
      "## 성적별 조 편성표 ##\n",
      "영웅 : 초아\n",
      "화사 : 민호\n",
      "영탁 : 선미\n"
     ]
    }
   ],
   "source": [
    "# 전역변수\n",
    "scoreAry = [[\"선미\", 88], [\"초아\", 99], [\"화사\", 71], [\"영탁\", 78], [\"영웅\", 67], [\"민호\", 92]]\n",
    "\n",
    "def scoreSort(ary):\n",
    "    n = len(ary)\n",
    "    for end in range(1, n): \n",
    "        for cur in range(end, 0, -1):\n",
    "            if ary[cur - 1][1] > ary[cur][1]:\n",
    "                ary[cur - 1], ary[cur] = ary[cur], ary[cur - 1]\n",
    "    \n",
    "    return ary\n",
    "\n",
    "print('정렬 전 -> ', scoreAry)\n",
    "scoreAry = scoreSort(scoreAry)\n",
    "print('정렬 후 -> ', scoreAry)\n",
    "print(\"## 성적별 조 편성표 ##\")\n",
    "for i in range(len(scoreAry)//2):\n",
    "    print(f'{scoreAry[i][0]} : {scoreAry[len(scoreAry)-1-i][0]}' )"
   ]
  },
  {
   "cell_type": "markdown",
   "metadata": {},
   "source": [
    "- 2차원 배열의 중앙값 찾기"
   ]
  },
  {
   "cell_type": "code",
   "execution_count": 42,
   "metadata": {},
   "outputs": [
    {
     "name": "stdout",
     "output_type": "stream",
     "text": [
      "1차원 변경 후, 정렬 전 ->  [55, 33, 250, 44, 88, 1, 67, 23, 199, 222, 38, 47, 155, 145, 20, 99]\n",
      "1차원 변경 후, 정렬 전 ->  [1, 20, 23, 33, 38, 44, 47, 55, 67, 88, 99, 145, 155, 199, 222, 250]\n",
      "중앙값 ->  67\n"
     ]
    }
   ],
   "source": [
    "# 전역변수\n",
    "ary2 = [[55, 33, 250, 44],\n",
    "        [88, 1, 67, 23],\n",
    "        [199, 222, 38, 47],\n",
    "        [155, 145, 20, 99]] \n",
    "\n",
    "ary1 = []\n",
    "\n",
    "for i in range(len(ary2)):\n",
    "    for k in range(len(ary2[i])):\n",
    "        ary1.append(ary2[i][k])\n",
    "\n",
    "print(\"1차원 변경 후, 정렬 전 -> \", ary1)\n",
    "ary1 = sortSelection(ary1)\n",
    "print(\"1차원 변경 후, 정렬 전 -> \", ary1)\n",
    "print('중앙값 -> ', ary1[len(ary1)//2])"
   ]
  },
  {
   "cell_type": "markdown",
   "metadata": {},
   "source": [
    "#### 버블정렬\n",
    "- 앞뒤 데이터를 비교해서 큰 값을 뒤로 보내면서 정렬하는 방식\n",
    "- 거품처럼 생겼다고 버블 정렬"
   ]
  },
  {
   "cell_type": "code",
   "execution_count": 7,
   "metadata": {},
   "outputs": [
    {
     "name": "stdout",
     "output_type": "stream",
     "text": [
      "정렬 전 -> [50, 105, 120, 188, 150, 162, 168, 177]\n",
      "정렬 중 -> [50, 105, 120, 150, 162, 168, 177, 188]\n",
      "정렬 중 -> [50, 105, 120, 150, 162, 168, 177, 188]\n",
      "정렬 중 -> [50, 105, 120, 150, 162, 168, 177, 188]\n",
      "정렬 중 -> [50, 105, 120, 150, 162, 168, 177, 188]\n",
      "정렬 중 -> [50, 105, 120, 150, 162, 168, 177, 188]\n",
      "정렬 중 -> [50, 105, 120, 150, 162, 168, 177, 188]\n",
      "정렬 중 -> [50, 105, 120, 150, 162, 168, 177, 188]\n",
      "총 처리 횟수 11\n",
      "정렬 후 -> [50, 105, 120, 150, 162, 168, 177, 188]\n"
     ]
    }
   ],
   "source": [
    "import random\n",
    "\n",
    "# 함수 정의\n",
    "def sortBubble(ary):\n",
    "    count = 0\n",
    "    n = len(ary)\n",
    "    for end in range(n-1, 0, -1): # 거꾸로\n",
    "        for cur in range(0, end):\n",
    "            if ary[cur] > ary[cur + 1]:\n",
    "                ary[cur], ary[cur + 1] = ary[cur + 1], ary[cur] # swap 기능을 포함\n",
    "                count += 1\n",
    "        \n",
    "        print(f'정렬 중 -> {ary}')\n",
    "        count += 1\n",
    "\n",
    "    print(f'총 처리 횟수 {count}')\n",
    "    return ary\n",
    "\n",
    "# dataAry = [188, 162, 168, 120, 50, 150, 177, 105]\n",
    "# dataAry = [random.randint(50, 190) for _ in range(random.randint(8, 20))]\n",
    "dataAry = [50, 105, 120, 188, 150, 162, 168, 177]\n",
    "\n",
    "print(f'정렬 전 -> {dataAry}')\n",
    "dataAry = sortBubble(dataAry)\n",
    "print(f'정렬 후 -> {dataAry}')"
   ]
  },
  {
   "cell_type": "markdown",
   "metadata": {},
   "source": [
    "##### 버블 정렬 중\n",
    "- 데이터가 거의 정렬이 되고, 한 두개가 데이터가 튀었을 때 개선방법\n",
    "- 한 사이클을 마쳤을 때 모두 정렬이 되면 더이상 반복문 처리하지 않고 탈출"
   ]
  },
  {
   "cell_type": "code",
   "execution_count": 9,
   "metadata": {},
   "outputs": [
    {
     "name": "stdout",
     "output_type": "stream",
     "text": [
      "정렬 전 -> [50, 105, 120, 188, 150, 162, 168, 177]\n",
      "정렬 중 -> [50, 105, 120, 150, 162, 168, 177, 188]\n",
      "정렬 중 -> [50, 105, 120, 150, 162, 168, 177, 188]\n",
      "총 처리 횟수 6\n",
      "정렬 후 -> [50, 105, 120, 150, 162, 168, 177, 188]\n"
     ]
    }
   ],
   "source": [
    "## 버블소트 개선 함수\n",
    "def sortBubbleA(ary):\n",
    "    count = 0\n",
    "    n = len(ary)\n",
    "\n",
    "    for end in range(n-1, 0, -1):\n",
    "        changeYn = False\n",
    "        for cur in range(0, end):\n",
    "            if ary[cur] > ary[cur + 1]:\n",
    "                ary[cur], ary[cur + 1] = ary[cur + 1], ary[cur]\n",
    "                changeYn = True # 값이 바꼈다\n",
    "                count += 1\n",
    "\n",
    "        print(f'정렬 중 -> {ary}')\n",
    "        count += 1\n",
    "\n",
    "        if not changeYn:\n",
    "            break\n",
    "\n",
    "    print(f'총 처리 횟수 {count}')\n",
    "    return ary\n",
    "\n",
    "dataAry = [50, 105, 120, 188, 150, 162, 168, 177]\n",
    "\n",
    "print(f'정렬 전 -> {dataAry}')\n",
    "dataAry = sortBubbleA(dataAry)\n",
    "print(f'정렬 후 -> {dataAry}')"
   ]
  },
  {
   "cell_type": "markdown",
   "metadata": {},
   "source": [
    "- 다른 정렬은 데이터가 거의 정렬이 다 되어있어도 횟수만큼 동작 $O(n^2)$\n",
    "- 버블 정렬은 데이터가 거의 정렬되어있으면 반복횟수를 줄일 수 있음 $O(n)$"
   ]
  },
  {
   "cell_type": "markdown",
   "metadata": {},
   "source": [
    "##### 퀵 정렬\n",
    "- 전체 데이터에서 기준값을 잡고, 기준값보다 작은 값은 왼쪽그룹으로, 큰 값은 오른쪽 그룹으로 나누는 작업을 반복해서 정렬하는 방식"
   ]
  },
  {
   "cell_type": "code",
   "execution_count": 13,
   "metadata": {},
   "outputs": [
    {
     "name": "stdout",
     "output_type": "stream",
     "text": [
      "정렬 전 -> [188, 162, 168, 120, 50, 150, 177, 105]\n",
      "총 처리 횟수 19\n",
      "정렬 후 -> [50, 105, 120, 150, 162, 168, 177, 188]\n"
     ]
    }
   ],
   "source": [
    "count = 0\n",
    "\n",
    "# 함수 정의\n",
    "def sortQuick(ary):\n",
    "    global count\n",
    "    n = len(ary)\n",
    "\n",
    "    if n <= 1: # 정렬할 리스트 개수가 1개 이하면\n",
    "        return ary\n",
    "    \n",
    "    pivot = ary[n // 2] # 중간값을 기준값으로 설정\n",
    "    leftAry, rightAry = [], []\n",
    "\n",
    "    for num in ary:\n",
    "        if num < pivot: # 기준값보다 작으면 왼쪽그룹\n",
    "            leftAry.append(num)\n",
    "            count += 1\n",
    "        \n",
    "        elif num > pivot:\n",
    "            rightAry.append(num)\n",
    "            count += 1\n",
    "        \n",
    "        # elif num == pivot:  # 이게 없으면 오른쪽 그룹으로 추가되면서 RecurssionError 발생 (데이터가 계속 늘어나니까)\n",
    "        #     continue\n",
    "        \n",
    "        # else: # 오른쪽 그룹으로\n",
    "        #     rightAry.append(num)\n",
    "        #     count += 1\n",
    "    \n",
    "    return sortQuick(leftAry) + [pivot] + sortQuick(rightAry) # 재귀호출\n",
    "\n",
    "# 변수\n",
    "dataAry = [188, 162, 168, 120, 50, 150, 177, 105]\n",
    "\n",
    "# 메인코드\n",
    "print(f'정렬 전 -> {dataAry}')\n",
    "dataAry = sortQuick(dataAry)\n",
    "print(f'총 처리 횟수 {count}')\n",
    "print(f'정렬 후 -> {dataAry}')"
   ]
  },
  {
   "cell_type": "markdown",
   "metadata": {},
   "source": [
    "- 중복값을 고려한 퀵 정렬"
   ]
  },
  {
   "cell_type": "code",
   "execution_count": 15,
   "metadata": {},
   "outputs": [
    {
     "name": "stdout",
     "output_type": "stream",
     "text": [
      "정렬 전 -> [120, 120, 188, 150, 168, 50, 50, 162, 105, 120, 177, 50]\n",
      "정렬 후 -> [50, 50, 50, 105, 120, 120, 120, 150, 162, 168, 177, 188]\n"
     ]
    }
   ],
   "source": [
    "def sortQuickD(ary):\n",
    "    n = len(ary)\n",
    "\n",
    "    if n <= 1: return ary\n",
    "    \n",
    "    pivot = ary[n // 2]\n",
    "    leftAry, midAry, rightAry = [], [], []\n",
    "\n",
    "    for num in ary:\n",
    "        if num < pivot: \n",
    "            leftAry.append(num)\n",
    "        \n",
    "        elif num > pivot:\n",
    "            rightAry.append(num)\n",
    "        \n",
    "        else:\n",
    "            midAry.append(num)\n",
    "\n",
    "    return sortQuickD(leftAry) + midAry + sortQuickD(rightAry)\n",
    "\n",
    "# 변수\n",
    "dataAry = [120, 120, 188, 150, 168, 50, 50, 162, 105, 120, 177, 50]\n",
    "\n",
    "print(f'정렬 전 -> {dataAry}')\n",
    "dataAry = sortQuickD(dataAry)\n",
    "print(f'정렬 후 -> {dataAry}')"
   ]
  },
  {
   "cell_type": "markdown",
   "metadata": {},
   "source": [
    "- 퀵 정렬 일반 구현"
   ]
  },
  {
   "cell_type": "code",
   "execution_count": 23,
   "metadata": {},
   "outputs": [
    {
     "name": "stdout",
     "output_type": "stream",
     "text": [
      "정렬 전 -> [188, 150, 168, 162, 105, 120, 177, 50]\n",
      "정렬 중 -> [50, 150, 168, 162, 105, 120, 177, 188]\n",
      "정렬 중 -> [50, 150, 120, 162, 105, 168, 177, 188]\n",
      "정렬 중 -> [50, 150, 120, 105, 162, 168, 177, 188]\n",
      "정렬 중 -> [50, 105, 120, 150, 162, 168, 177, 188]\n",
      "정렬 중 -> [50, 105, 120, 150, 162, 168, 177, 188]\n",
      "정렬 중 -> [50, 105, 120, 150, 162, 168, 177, 188]\n",
      "정렬 중 -> [50, 105, 120, 150, 162, 168, 177, 188]\n",
      "정렬 중 -> [50, 105, 120, 150, 162, 168, 177, 188]\n",
      "정렬 중 -> [50, 105, 120, 150, 162, 168, 177, 188]\n",
      "총 처리 횟수 9\n",
      "정렬 후 -> [50, 105, 120, 150, 162, 168, 177, 188]\n"
     ]
    }
   ],
   "source": [
    "count = 0\n",
    "\n",
    "def sortQuickN(ary, start, end):\n",
    "    global count\n",
    "    if end <= start: return # 재귀호출 종료 조건\n",
    "\n",
    "    low = start; high = end\n",
    "\n",
    "    pivot = ary[(low + high) // 2] # 리스트 중간값을 기준값으로\n",
    "    while low <= high:\n",
    "        while ary[low] < pivot:\n",
    "            low += 1\n",
    "        while ary[high] > pivot:\n",
    "            high -= 1\n",
    "        if low <= high:\n",
    "            ary[low], ary[high] = ary[high], ary[low]\n",
    "            low, high = low + 1, high -1\n",
    "            count += 1\n",
    "            print(f'정렬 중 -> {ary}')\n",
    "\n",
    "    # mid = low # 모든 정렬을 한바퀴 돌면 low는 리스트 중간쯤 가있는다\n",
    "\n",
    "    sortQuickN(ary, start, low-1) # 왼쪽 그룹 다시 정렬(재귀호출)\n",
    "    sortQuickN(ary, low, end) # 오른쪽 그룹 다시 정렬(재귀호출)\n",
    "# 변수\n",
    "dataAry = [188, 150, 168, 162, 105, 120, 177, 50]\n",
    "\n",
    "# 메인\n",
    "print(f'정렬 전 -> {dataAry}')\n",
    "sortQuickN(dataAry, 0, len(dataAry)-1)\n",
    "print(f'총 처리 횟수 {count}')\n",
    "print(f'정렬 후 -> {dataAry}')"
   ]
  },
  {
   "cell_type": "markdown",
   "metadata": {},
   "source": [
    "##### 퀵정렬\n",
    "- 최악의 경우는 $O(n^2)$ 이나, 평균적으로 $O(n log n)$ 연산수 가짐\n",
    "- 만약 n이 100만개일 경우\n",
    "    - 선택정렬, 삽입정렬 평균적으로 1조번 처리해야함\n",
    "    - 퀵정렬은 약 2000만번 처리(1/5로 처리양이 축소)"
   ]
  },
  {
   "cell_type": "markdown",
   "metadata": {},
   "source": [
    "#### 정렬 응용예\n",
    "- 이진 탐색(Binary search)[이진 트리사용] 검색알고리즘에서 활용\n",
    "- 데이터 분석 : 최소값, 최대값, 중앙값, 분위수 계산시 사용\n",
    "- 데이터베이스 SQL문 : ORDER BY 사용시 내림차순, 오름차순 사용\n",
    "- 파일 정리, 로그 정리\n",
    "- 그래픽 이미지처리 : 이미지 픽셀 밝기 정렬, 히스토그램 생성\n",
    "- 네트워크 패킷 처리\n",
    "- 인공지능 머신러닝 : KNN 정렬사용\n",
    "- 쇼핑몰 : 가격별(저렴한 순, 비싼 순) 정렬"
   ]
  }
 ],
 "metadata": {
  "kernelspec": {
   "display_name": "Python 3",
   "language": "python",
   "name": "python3"
  },
  "language_info": {
   "codemirror_mode": {
    "name": "ipython",
    "version": 3
   },
   "file_extension": ".py",
   "mimetype": "text/x-python",
   "name": "python",
   "nbconvert_exporter": "python",
   "pygments_lexer": "ipython3",
   "version": "3.11.9"
  }
 },
 "nbformat": 4,
 "nbformat_minor": 2
}
